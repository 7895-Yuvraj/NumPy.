{
 "cells": [
  {
   "cell_type": "markdown",
   "id": "1e65b0b6",
   "metadata": {},
   "source": [
    "# NumPy Python Library.\n",
    " NumPy(Numerical Python) is an open sourcePython library that is very useful in Mathematical and Scintific programming and computations.\n",
    "\n",
    "-NumPy is used for working with a powerful N-dimentional array object.\n",
    "-NumPy is incredible library to perform mathmetical & Statical operations due to its \n",
    " fast and memeory efficient."
   ]
  },
  {
   "cell_type": "markdown",
   "id": "58a7d893",
   "metadata": {},
   "source": [
    "# Import NumPy "
   ]
  },
  {
   "cell_type": "code",
   "execution_count": 1,
   "id": "5e4208bb",
   "metadata": {},
   "outputs": [],
   "source": [
    "import numpy as np "
   ]
  },
  {
   "cell_type": "markdown",
   "id": "a816d53a",
   "metadata": {},
   "source": [
    "## ndarray object\n",
    "### The basic ndarray is created using as array function in NumPy "
   ]
  },
  {
   "cell_type": "code",
   "execution_count": 2,
   "id": "8d28155c",
   "metadata": {},
   "outputs": [
    {
     "data": {
      "text/plain": [
       "array([1, 2, 3, 4, 5, 6])"
      ]
     },
     "execution_count": 2,
     "metadata": {},
     "output_type": "execute_result"
    }
   ],
   "source": [
    "a=[1,2,3,4,5,6]\n",
    "b=np.array(a)\n",
    "b"
   ]
  },
  {
   "cell_type": "markdown",
   "id": "57571804",
   "metadata": {},
   "source": [
    "## Creating NumPy Arrays from a list"
   ]
  },
  {
   "cell_type": "code",
   "execution_count": 3,
   "id": "bbd5fbde",
   "metadata": {},
   "outputs": [],
   "source": [
    "anew=np.array([[1,2,3,4,5],[6,7,8,9,10]])"
   ]
  },
  {
   "cell_type": "code",
   "execution_count": 4,
   "id": "c5bc3710",
   "metadata": {},
   "outputs": [
    {
     "data": {
      "text/plain": [
       "(2, 5)"
      ]
     },
     "execution_count": 4,
     "metadata": {},
     "output_type": "execute_result"
    }
   ],
   "source": [
    "#Shape\n",
    "anew.shape"
   ]
  },
  {
   "cell_type": "code",
   "execution_count": 5,
   "id": "ae56388a",
   "metadata": {},
   "outputs": [
    {
     "data": {
      "text/plain": [
       "2"
      ]
     },
     "execution_count": 5,
     "metadata": {},
     "output_type": "execute_result"
    }
   ],
   "source": [
    "#print Dimensions\n",
    "anew.ndim"
   ]
  },
  {
   "cell_type": "code",
   "execution_count": 6,
   "id": "432a5d40",
   "metadata": {},
   "outputs": [
    {
     "data": {
      "text/plain": [
       "10"
      ]
     },
     "execution_count": 6,
     "metadata": {},
     "output_type": "execute_result"
    }
   ],
   "source": [
    "#size\n",
    "anew.size"
   ]
  },
  {
   "cell_type": "code",
   "execution_count": 7,
   "id": "8055eb94",
   "metadata": {},
   "outputs": [
    {
     "data": {
      "text/plain": [
       "array([[ 1,  2,  3,  4,  5],\n",
       "       [ 6,  7,  8,  9, 10]])"
      ]
     },
     "execution_count": 7,
     "metadata": {},
     "output_type": "execute_result"
    }
   ],
   "source": [
    "anew"
   ]
  },
  {
   "cell_type": "code",
   "execution_count": 8,
   "id": "12a55d56",
   "metadata": {},
   "outputs": [
    {
     "data": {
      "text/plain": [
       "array([[1, 2, 3],\n",
       "       [4, 5, 6],\n",
       "       [7, 8, 9]])"
      ]
     },
     "execution_count": 8,
     "metadata": {},
     "output_type": "execute_result"
    }
   ],
   "source": [
    "#matrix to array\n",
    "an=np.array([[1,2,3],[4,5,6],[7,8,9]])\n",
    "an"
   ]
  },
  {
   "cell_type": "markdown",
   "id": "a1b82f77",
   "metadata": {},
   "source": [
    "# functions for creating arrays "
   ]
  },
  {
   "cell_type": "code",
   "execution_count": 9,
   "id": "04b43e1a",
   "metadata": {},
   "outputs": [],
   "source": [
    "a=np.arange(20)# start,end( exclusive ), step"
   ]
  },
  {
   "cell_type": "code",
   "execution_count": 10,
   "id": "d22821a0",
   "metadata": {},
   "outputs": [
    {
     "data": {
      "text/plain": [
       "array([ 0,  1,  2,  3,  4,  5,  6,  7,  8,  9, 10, 11, 12, 13, 14, 15, 16,\n",
       "       17, 18, 19])"
      ]
     },
     "execution_count": 10,
     "metadata": {},
     "output_type": "execute_result"
    }
   ],
   "source": [
    "a"
   ]
  },
  {
   "cell_type": "code",
   "execution_count": 11,
   "id": "f7d14b43",
   "metadata": {},
   "outputs": [
    {
     "data": {
      "text/plain": [
       "array([[ 0,  1,  2,  3,  4],\n",
       "       [ 5,  6,  7,  8,  9],\n",
       "       [10, 11, 12, 13, 14],\n",
       "       [15, 16, 17, 18, 19]])"
      ]
     },
     "execution_count": 11,
     "metadata": {},
     "output_type": "execute_result"
    }
   ],
   "source": [
    "#Reshape any array\n",
    "a.reshape(4,5)"
   ]
  },
  {
   "cell_type": "code",
   "execution_count": 12,
   "id": "b03a6a83",
   "metadata": {},
   "outputs": [],
   "source": [
    "##linespace-REturn evenly spaced over asoecified interval\n",
    "a=np.linspace(0,10,5)# (start,end,num of sample)"
   ]
  },
  {
   "cell_type": "code",
   "execution_count": 13,
   "id": "ee95cecb",
   "metadata": {},
   "outputs": [
    {
     "data": {
      "text/plain": [
       "array([ 0. ,  2.5,  5. ,  7.5, 10. ])"
      ]
     },
     "execution_count": 13,
     "metadata": {},
     "output_type": "execute_result"
    }
   ],
   "source": [
    "a"
   ]
  },
  {
   "cell_type": "code",
   "execution_count": 14,
   "id": "475b5500",
   "metadata": {},
   "outputs": [],
   "source": [
    "#random.randint-Returnes random integers from start (inclusive ) to end (exclusive)\n",
    "a=np.random.randint(1,50,5)"
   ]
  },
  {
   "cell_type": "code",
   "execution_count": 15,
   "id": "03f75b00",
   "metadata": {},
   "outputs": [
    {
     "data": {
      "text/plain": [
       "array([35, 43, 27,  8, 13])"
      ]
     },
     "execution_count": 15,
     "metadata": {},
     "output_type": "execute_result"
    }
   ],
   "source": [
    "a"
   ]
  },
  {
   "cell_type": "code",
   "execution_count": 16,
   "id": "7ad1213e",
   "metadata": {},
   "outputs": [
    {
     "data": {
      "text/plain": [
       "array([[1., 1., 1., 1.],\n",
       "       [1., 1., 1., 1.],\n",
       "       [1., 1., 1., 1.],\n",
       "       [1., 1., 1., 1.]])"
      ]
     },
     "execution_count": 16,
     "metadata": {},
     "output_type": "execute_result"
    }
   ],
   "source": [
    "#Zeroes -Generates arrays of zero \n",
    "np.zeros((4,4))+1"
   ]
  },
  {
   "cell_type": "code",
   "execution_count": 17,
   "id": "be437c82",
   "metadata": {},
   "outputs": [],
   "source": [
    "a=np.array([[1,2,3],[4,5,6]])"
   ]
  },
  {
   "cell_type": "code",
   "execution_count": 18,
   "id": "690ca7a2",
   "metadata": {},
   "outputs": [
    {
     "data": {
      "text/plain": [
       "array([1, 2, 3, 4, 5, 6])"
      ]
     },
     "execution_count": 18,
     "metadata": {},
     "output_type": "execute_result"
    }
   ],
   "source": [
    "#Flattening-Converting nd array to 1D array\n",
    "a.ravel()"
   ]
  },
  {
   "cell_type": "markdown",
   "id": "6ab6591f",
   "metadata": {},
   "source": [
    "### Transpose "
   ]
  },
  {
   "cell_type": "code",
   "execution_count": 19,
   "id": "13c332ae",
   "metadata": {},
   "outputs": [],
   "source": [
    "a=np.array([[1,2,3],[4,5,6]])\n",
    "c=a.T"
   ]
  },
  {
   "cell_type": "code",
   "execution_count": 20,
   "id": "7018fdf8",
   "metadata": {},
   "outputs": [
    {
     "data": {
      "text/plain": [
       "array([[1, 4],\n",
       "       [2, 5],\n",
       "       [3, 6]])"
      ]
     },
     "execution_count": 20,
     "metadata": {},
     "output_type": "execute_result"
    }
   ],
   "source": [
    "c"
   ]
  },
  {
   "cell_type": "markdown",
   "id": "ebba27d5",
   "metadata": {},
   "source": [
    "## Copy array"
   ]
  },
  {
   "cell_type": "code",
   "execution_count": 21,
   "id": "e826f85a",
   "metadata": {},
   "outputs": [
    {
     "name": "stdout",
     "output_type": "stream",
     "text": [
      "[1 2 3 4]\n",
      "[1 2 3 4]\n"
     ]
    }
   ],
   "source": [
    "a=np.array([1,2,3,4])\n",
    "b=a# Shallow Copy \n",
    "print(b)\n",
    "print(a)"
   ]
  },
  {
   "cell_type": "code",
   "execution_count": 22,
   "id": "54b0c810",
   "metadata": {},
   "outputs": [
    {
     "name": "stdout",
     "output_type": "stream",
     "text": [
      "[100   2   3   4]\n",
      "[1 2 3 4]\n"
     ]
    }
   ],
   "source": [
    "a=np.array([1,2,3,4])\n",
    "b=a.copy()#Deep Copy \n",
    "b[0]=100\n",
    "print(b)\n",
    "print(a)"
   ]
  },
  {
   "cell_type": "markdown",
   "id": "84583440",
   "metadata": {},
   "source": [
    "## Add/Remove operations on numpy array"
   ]
  },
  {
   "cell_type": "code",
   "execution_count": 23,
   "id": "effdfa90",
   "metadata": {},
   "outputs": [
    {
     "data": {
      "text/plain": [
       "array([1, 2, 3, 4, 7, 8, 9])"
      ]
     },
     "execution_count": 23,
     "metadata": {},
     "output_type": "execute_result"
    }
   ],
   "source": [
    "a=np.array([1,2,3,4])\n",
    "a=np.append(a,[7,8,9])\n",
    "a"
   ]
  },
  {
   "cell_type": "code",
   "execution_count": 24,
   "id": "0fc4a99f",
   "metadata": {},
   "outputs": [
    {
     "data": {
      "text/plain": [
       "array([1, 2, 4, 7, 8, 9])"
      ]
     },
     "execution_count": 24,
     "metadata": {},
     "output_type": "execute_result"
    }
   ],
   "source": [
    "a=np.delete(a,2)\n",
    "a"
   ]
  },
  {
   "cell_type": "code",
   "execution_count": 25,
   "id": "bd72f9eb",
   "metadata": {},
   "outputs": [
    {
     "data": {
      "text/plain": [
       "array([[1, 0, 0],\n",
       "       [0, 2, 0],\n",
       "       [0, 0, 3]])"
      ]
     },
     "execution_count": 25,
     "metadata": {},
     "output_type": "execute_result"
    }
   ],
   "source": [
    "a=np.diag([1,2,3])\n",
    "a"
   ]
  },
  {
   "cell_type": "code",
   "execution_count": 26,
   "id": "1c7188e0",
   "metadata": {},
   "outputs": [],
   "source": [
    "a[1,2]=7 # assigning value "
   ]
  },
  {
   "cell_type": "code",
   "execution_count": 27,
   "id": "dcc3a010",
   "metadata": {},
   "outputs": [
    {
     "data": {
      "text/plain": [
       "array([[1, 0, 0],\n",
       "       [0, 2, 7],\n",
       "       [0, 0, 3]])"
      ]
     },
     "execution_count": 27,
     "metadata": {},
     "output_type": "execute_result"
    }
   ],
   "source": [
    "a"
   ]
  },
  {
   "cell_type": "markdown",
   "id": "b3ff1087",
   "metadata": {},
   "source": [
    "## Indexing with an array of integers "
   ]
  },
  {
   "cell_type": "code",
   "execution_count": 28,
   "id": "6aae8d6b",
   "metadata": {},
   "outputs": [
    {
     "data": {
      "text/plain": [
       "array([ 10,  20,  30,  40,  50,  60,  70,  80,  90, 100])"
      ]
     },
     "execution_count": 28,
     "metadata": {},
     "output_type": "execute_result"
    }
   ],
   "source": [
    "a=np.arange(10,101,10)\n",
    "a"
   ]
  },
  {
   "cell_type": "code",
   "execution_count": 29,
   "id": "b8c2b0ea",
   "metadata": {},
   "outputs": [
    {
     "data": {
      "text/plain": [
       "30"
      ]
     },
     "execution_count": 29,
     "metadata": {},
     "output_type": "execute_result"
    }
   ],
   "source": [
    "a[2]"
   ]
  },
  {
   "cell_type": "code",
   "execution_count": 30,
   "id": "cb5b10b9",
   "metadata": {},
   "outputs": [
    {
     "data": {
      "text/plain": [
       "array([30, 40, 50, 60, 70])"
      ]
     },
     "execution_count": 30,
     "metadata": {},
     "output_type": "execute_result"
    }
   ],
   "source": [
    "a[[2,3,4,5,6]]"
   ]
  },
  {
   "cell_type": "code",
   "execution_count": 31,
   "id": "1ea36ba5",
   "metadata": {},
   "outputs": [],
   "source": [
    "a[2]=100"
   ]
  },
  {
   "cell_type": "code",
   "execution_count": 32,
   "id": "2ac88668",
   "metadata": {},
   "outputs": [],
   "source": [
    "a[[1,2]]=1000000"
   ]
  },
  {
   "cell_type": "code",
   "execution_count": 33,
   "id": "1af5ed95",
   "metadata": {},
   "outputs": [],
   "source": [
    "a=np.arange(20)"
   ]
  },
  {
   "cell_type": "code",
   "execution_count": 34,
   "id": "a896b2e7",
   "metadata": {},
   "outputs": [
    {
     "data": {
      "text/plain": [
       "array([ 0,  1,  2,  3,  4,  5,  6,  7,  8,  9, 10, 11, 12, 13, 14, 15, 16,\n",
       "       17, 18, 19])"
      ]
     },
     "execution_count": 34,
     "metadata": {},
     "output_type": "execute_result"
    }
   ],
   "source": [
    "a"
   ]
  },
  {
   "cell_type": "markdown",
   "id": "0f11fe6d",
   "metadata": {},
   "source": [
    "## Mask indexing or Fancy indexing"
   ]
  },
  {
   "cell_type": "code",
   "execution_count": 35,
   "id": "92bb343d",
   "metadata": {},
   "outputs": [
    {
     "data": {
      "text/plain": [
       "array([False,  True,  True,  True,  True, False])"
      ]
     },
     "execution_count": 35,
     "metadata": {},
     "output_type": "execute_result"
    }
   ],
   "source": [
    "a=np.array([15,6,2,16,20,25,])\n",
    "a%2==0"
   ]
  },
  {
   "cell_type": "code",
   "execution_count": 36,
   "id": "ab1b5bfb",
   "metadata": {},
   "outputs": [
    {
     "data": {
      "text/plain": [
       "array([ 6,  2, 16, 20])"
      ]
     },
     "execution_count": 36,
     "metadata": {},
     "output_type": "execute_result"
    }
   ],
   "source": [
    "a[a%2==0]"
   ]
  },
  {
   "cell_type": "markdown",
   "id": "8d98b4ff",
   "metadata": {},
   "source": [
    "## slicing  "
   ]
  },
  {
   "cell_type": "code",
   "execution_count": 37,
   "id": "41213963",
   "metadata": {},
   "outputs": [],
   "source": [
    "a=np.arange(4,20)"
   ]
  },
  {
   "cell_type": "code",
   "execution_count": 38,
   "id": "006f8519",
   "metadata": {},
   "outputs": [
    {
     "data": {
      "text/plain": [
       "array([ 4,  5,  6,  7,  8,  9, 10, 11, 12, 13, 14, 15, 16, 17, 18, 19])"
      ]
     },
     "execution_count": 38,
     "metadata": {},
     "output_type": "execute_result"
    }
   ],
   "source": [
    "a"
   ]
  },
  {
   "cell_type": "code",
   "execution_count": 39,
   "id": "eea33b8b",
   "metadata": {},
   "outputs": [
    {
     "data": {
      "text/plain": [
       "array([ 5,  7,  9, 11, 13, 15, 17, 19])"
      ]
     },
     "execution_count": 39,
     "metadata": {},
     "output_type": "execute_result"
    }
   ],
   "source": [
    "a[1:20:2]"
   ]
  },
  {
   "cell_type": "code",
   "execution_count": 40,
   "id": "b97ab186",
   "metadata": {},
   "outputs": [
    {
     "data": {
      "text/plain": [
       "array([2, 3, 4, 5])"
      ]
     },
     "execution_count": 40,
     "metadata": {},
     "output_type": "execute_result"
    }
   ],
   "source": [
    "a=np.array([1,2,3,4])\n",
    "a+1"
   ]
  },
  {
   "cell_type": "markdown",
   "id": "547e32fe",
   "metadata": {},
   "source": [
    "## arthemetic operations "
   ]
  },
  {
   "cell_type": "code",
   "execution_count": 41,
   "id": "d7f0350a",
   "metadata": {},
   "outputs": [
    {
     "data": {
      "text/plain": [
       "array([ 1,  4,  9, 16], dtype=int32)"
      ]
     },
     "execution_count": 41,
     "metadata": {},
     "output_type": "execute_result"
    }
   ],
   "source": [
    "a**2"
   ]
  },
  {
   "cell_type": "code",
   "execution_count": 42,
   "id": "be945825",
   "metadata": {},
   "outputs": [
    {
     "data": {
      "text/plain": [
       "array([1, 0, 1, 0], dtype=int32)"
      ]
     },
     "execution_count": 42,
     "metadata": {},
     "output_type": "execute_result"
    }
   ],
   "source": [
    "a%2"
   ]
  },
  {
   "cell_type": "code",
   "execution_count": 43,
   "id": "451bd92e",
   "metadata": {},
   "outputs": [
    {
     "data": {
      "text/plain": [
       "array([[ 9, 17, 34],\n",
       "       [24, 44, 82],\n",
       "       [15, 29, 52]])"
      ]
     },
     "execution_count": 43,
     "metadata": {},
     "output_type": "execute_result"
    }
   ],
   "source": [
    "a=[[1,2,3],[4,5,6],[1,5,3]]\n",
    "b=[[2,3,4],[2,4,6],[1,2,6]]\n",
    "c=np.matmul(a,b)\n",
    "c"
   ]
  },
  {
   "cell_type": "markdown",
   "id": "54d1b521",
   "metadata": {},
   "source": [
    "## Comarision operations "
   ]
  },
  {
   "cell_type": "code",
   "execution_count": 44,
   "id": "d3eb2daa",
   "metadata": {},
   "outputs": [
    {
     "data": {
      "text/plain": [
       "False"
      ]
     },
     "execution_count": 44,
     "metadata": {},
     "output_type": "execute_result"
    }
   ],
   "source": [
    "a==b"
   ]
  },
  {
   "cell_type": "code",
   "execution_count": 45,
   "id": "7b57ff06",
   "metadata": {},
   "outputs": [
    {
     "data": {
      "text/plain": [
       "False"
      ]
     },
     "execution_count": 45,
     "metadata": {},
     "output_type": "execute_result"
    }
   ],
   "source": [
    "a>b"
   ]
  },
  {
   "cell_type": "code",
   "execution_count": 46,
   "id": "72542199",
   "metadata": {},
   "outputs": [
    {
     "data": {
      "text/plain": [
       "False"
      ]
     },
     "execution_count": 46,
     "metadata": {},
     "output_type": "execute_result"
    }
   ],
   "source": [
    "np.array_equal(a,b)"
   ]
  },
  {
   "cell_type": "code",
   "execution_count": 47,
   "id": "95c7d107",
   "metadata": {},
   "outputs": [
    {
     "data": {
      "text/plain": [
       "False"
      ]
     },
     "execution_count": 47,
     "metadata": {},
     "output_type": "execute_result"
    }
   ],
   "source": [
    "np.array_equal(a,c)"
   ]
  },
  {
   "cell_type": "markdown",
   "id": "7314af24",
   "metadata": {},
   "source": [
    "# Mathematical operations "
   ]
  },
  {
   "cell_type": "code",
   "execution_count": 48,
   "id": "f90e297a",
   "metadata": {},
   "outputs": [
    {
     "data": {
      "text/plain": [
       "array([[0.        , 0.69314718, 1.09861229],\n",
       "       [1.38629436, 1.60943791, 1.79175947],\n",
       "       [0.        , 1.60943791, 1.09861229]])"
      ]
     },
     "execution_count": 48,
     "metadata": {},
     "output_type": "execute_result"
    }
   ],
   "source": [
    "np.log(a)"
   ]
  },
  {
   "cell_type": "code",
   "execution_count": 49,
   "id": "929d2e26",
   "metadata": {},
   "outputs": [
    {
     "data": {
      "text/plain": [
       "array([[  2.71828183,   7.3890561 ,  20.08553692],\n",
       "       [ 54.59815003, 148.4131591 , 403.42879349],\n",
       "       [  2.71828183, 148.4131591 ,  20.08553692]])"
      ]
     },
     "execution_count": 49,
     "metadata": {},
     "output_type": "execute_result"
    }
   ],
   "source": [
    "np.exp(a)"
   ]
  },
  {
   "cell_type": "code",
   "execution_count": 50,
   "id": "22aa0809",
   "metadata": {},
   "outputs": [
    {
     "data": {
      "text/plain": [
       "array([[ 0.84147098,  0.90929743,  0.14112001],\n",
       "       [-0.7568025 , -0.95892427, -0.2794155 ],\n",
       "       [ 0.84147098, -0.95892427,  0.14112001]])"
      ]
     },
     "execution_count": 50,
     "metadata": {},
     "output_type": "execute_result"
    }
   ],
   "source": [
    "np.sin(a)"
   ]
  },
  {
   "cell_type": "code",
   "execution_count": 51,
   "id": "9d5b456d",
   "metadata": {},
   "outputs": [
    {
     "data": {
      "text/plain": [
       "False"
      ]
     },
     "execution_count": 51,
     "metadata": {},
     "output_type": "execute_result"
    }
   ],
   "source": [
    "np.array_equal(a,b)"
   ]
  },
  {
   "cell_type": "code",
   "execution_count": 52,
   "id": "c236c298",
   "metadata": {},
   "outputs": [],
   "source": [
    "#sorting"
   ]
  },
  {
   "cell_type": "code",
   "execution_count": 53,
   "id": "cb0a0aee",
   "metadata": {},
   "outputs": [],
   "source": [
    "a=np.sort([4,5,2,1,6])"
   ]
  },
  {
   "cell_type": "code",
   "execution_count": 54,
   "id": "107fd4ae",
   "metadata": {},
   "outputs": [
    {
     "data": {
      "text/plain": [
       "array([1, 2, 4, 5, 6])"
      ]
     },
     "execution_count": 54,
     "metadata": {},
     "output_type": "execute_result"
    }
   ],
   "source": [
    "a"
   ]
  },
  {
   "cell_type": "code",
   "execution_count": null,
   "id": "734d88b9",
   "metadata": {},
   "outputs": [],
   "source": []
  }
 ],
 "metadata": {
  "kernelspec": {
   "display_name": "Python 3 (ipykernel)",
   "language": "python",
   "name": "python3"
  },
  "language_info": {
   "codemirror_mode": {
    "name": "ipython",
    "version": 3
   },
   "file_extension": ".py",
   "mimetype": "text/x-python",
   "name": "python",
   "nbconvert_exporter": "python",
   "pygments_lexer": "ipython3",
   "version": "3.9.12"
  }
 },
 "nbformat": 4,
 "nbformat_minor": 5
}
